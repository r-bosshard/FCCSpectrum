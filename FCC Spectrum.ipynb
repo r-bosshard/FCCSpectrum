{
 "cells": [
  {
   "cell_type": "code",
   "execution_count": 21,
   "metadata": {},
   "outputs": [],
   "source": [
    "import pandas as pd\n",
    "import numpy as np\n",
    "import requests\n",
    "from bs4 import BeautifulSoup as BS\n",
    "import xml.etree.ElementTree as ET\n",
    "import datetime\n",
    "import json\n",
    "import matplotlib.pyplot as plt\n",
    "import matplotlib.image as mpimg\n",
    "from pylab import figure, text, scatter, show\n",
    "%matplotlib inline"
   ]
  },
  {
   "cell_type": "code",
   "execution_count": 49,
   "metadata": {},
   "outputs": [
    {
     "ename": "AttributeError",
     "evalue": "'Response' object has no attribute 'getElementsbyTagName'",
     "output_type": "error",
     "traceback": [
      "\u001b[1;31m---------------------------------------------------------------------------\u001b[0m",
      "\u001b[1;31mAttributeError\u001b[0m                            Traceback (most recent call last)",
      "\u001b[1;32m<ipython-input-49-411cee678595>\u001b[0m in \u001b[0;36m<module>\u001b[1;34m()\u001b[0m\n\u001b[0;32m     10\u001b[0m \u001b[0mroot\u001b[0m \u001b[1;33m=\u001b[0m \u001b[0mET\u001b[0m\u001b[1;33m.\u001b[0m\u001b[0mfromstring\u001b[0m\u001b[1;33m(\u001b[0m\u001b[0mr\u001b[0m\u001b[1;33m.\u001b[0m\u001b[0mcontent\u001b[0m\u001b[1;33m)\u001b[0m\u001b[1;33m\u001b[0m\u001b[0m\n\u001b[0;32m     11\u001b[0m \u001b[1;33m\u001b[0m\u001b[0m\n\u001b[1;32m---> 12\u001b[1;33m \u001b[0mspectrum\u001b[0m \u001b[1;33m=\u001b[0m \u001b[0mr\u001b[0m\u001b[1;33m.\u001b[0m\u001b[0mgetElementsbyTagName\u001b[0m\u001b[1;33m(\u001b[0m\u001b[1;34m\"SpectrumBand\"\u001b[0m\u001b[1;33m)\u001b[0m\u001b[1;33m\u001b[0m\u001b[0m\n\u001b[0m",
      "\u001b[1;31mAttributeError\u001b[0m: 'Response' object has no attribute 'getElementsbyTagName'"
     ]
    }
   ],
   "source": [
    "#FCC Spectrum Database\n",
    "\n",
    "#bands in MHz\n",
    "lower_band = 600\n",
    "upper_band = 900\n",
    "\n",
    "url = \"http://data.fcc.gov/api/spectrum-view/services/advancedSearch/getSpectrumBands?frequencyFrom={0}&frequencyTo={1}\".format(lower_band, upper_band)\n",
    "\n",
    "r = requests.get(url)\n",
    "root = ET.fromstring(r.content)\n",
    "\n",
    "mydoc = \n",
    "\n",
    "spectrum = r.getElementsbyTagName(\"SpectrumBand\")\n",
    "\n"
   ]
  },
  {
   "cell_type": "code",
   "execution_count": 47,
   "metadata": {},
   "outputs": [
    {
     "name": "stdout",
     "output_type": "stream",
     "text": [
      "{http://data.fcc.gov/spectrum-view/services}Response {'status': 'OK'}\n",
      "{http://data.fcc.gov/spectrum-view/services}Criteria {}\n",
      "{http://data.fcc.gov/spectrum-view/services}SearchCriterion {'field': 'frequencyFrom', 'value': '600'}\n",
      "{http://data.fcc.gov/spectrum-view/services}SearchCriterion {'field': 'frequencyTo', 'value': '900'}\n",
      "{http://data.fcc.gov/spectrum-view/services}SpectrumBands {'page': '1', 'rowPerPage': '1000', 'totalRows': '15', 'lastUpdate': 'Jul 7, 2014'}\n",
      "{http://data.fcc.gov/spectrum-view/services}SpectrumBand {'id': '27'}\n",
      "{http://data.fcc.gov/spectrum-view/services}lowerBand {}\n",
      "{http://data.fcc.gov/spectrum-view/services}upperBand {}\n",
      "{http://data.fcc.gov/spectrum-view/services}bandDesc {}\n",
      "{http://data.fcc.gov/spectrum-view/services}SpectrumBand {'id': '28'}\n",
      "{http://data.fcc.gov/spectrum-view/services}lowerBand {}\n",
      "{http://data.fcc.gov/spectrum-view/services}upperBand {}\n",
      "{http://data.fcc.gov/spectrum-view/services}bandDesc {}\n",
      "{http://data.fcc.gov/spectrum-view/services}SpectrumBand {'id': '29'}\n",
      "{http://data.fcc.gov/spectrum-view/services}lowerBand {}\n",
      "{http://data.fcc.gov/spectrum-view/services}upperBand {}\n",
      "{http://data.fcc.gov/spectrum-view/services}bandDesc {}\n",
      "{http://data.fcc.gov/spectrum-view/services}SpectrumBand {'id': '30'}\n",
      "{http://data.fcc.gov/spectrum-view/services}lowerBand {}\n",
      "{http://data.fcc.gov/spectrum-view/services}upperBand {}\n",
      "{http://data.fcc.gov/spectrum-view/services}bandDesc {}\n",
      "{http://data.fcc.gov/spectrum-view/services}SpectrumBand {'id': '31'}\n",
      "{http://data.fcc.gov/spectrum-view/services}lowerBand {}\n",
      "{http://data.fcc.gov/spectrum-view/services}upperBand {}\n",
      "{http://data.fcc.gov/spectrum-view/services}bandDesc {}\n",
      "{http://data.fcc.gov/spectrum-view/services}SpectrumBand {'id': '32'}\n",
      "{http://data.fcc.gov/spectrum-view/services}lowerBand {}\n",
      "{http://data.fcc.gov/spectrum-view/services}upperBand {}\n",
      "{http://data.fcc.gov/spectrum-view/services}bandDesc {}\n",
      "{http://data.fcc.gov/spectrum-view/services}SpectrumBand {'id': '33'}\n",
      "{http://data.fcc.gov/spectrum-view/services}lowerBand {}\n",
      "{http://data.fcc.gov/spectrum-view/services}upperBand {}\n",
      "{http://data.fcc.gov/spectrum-view/services}bandDesc {}\n",
      "{http://data.fcc.gov/spectrum-view/services}SpectrumBand {'id': '34'}\n",
      "{http://data.fcc.gov/spectrum-view/services}lowerBand {}\n",
      "{http://data.fcc.gov/spectrum-view/services}upperBand {}\n",
      "{http://data.fcc.gov/spectrum-view/services}bandDesc {}\n",
      "{http://data.fcc.gov/spectrum-view/services}SpectrumBand {'id': '35'}\n",
      "{http://data.fcc.gov/spectrum-view/services}lowerBand {}\n",
      "{http://data.fcc.gov/spectrum-view/services}upperBand {}\n",
      "{http://data.fcc.gov/spectrum-view/services}bandDesc {}\n",
      "{http://data.fcc.gov/spectrum-view/services}SpectrumBand {'id': '36'}\n",
      "{http://data.fcc.gov/spectrum-view/services}lowerBand {}\n",
      "{http://data.fcc.gov/spectrum-view/services}upperBand {}\n",
      "{http://data.fcc.gov/spectrum-view/services}bandDesc {}\n",
      "{http://data.fcc.gov/spectrum-view/services}SpectrumBand {'id': '37'}\n",
      "{http://data.fcc.gov/spectrum-view/services}lowerBand {}\n",
      "{http://data.fcc.gov/spectrum-view/services}upperBand {}\n",
      "{http://data.fcc.gov/spectrum-view/services}bandDesc {}\n",
      "{http://data.fcc.gov/spectrum-view/services}SpectrumBand {'id': '38'}\n",
      "{http://data.fcc.gov/spectrum-view/services}lowerBand {}\n",
      "{http://data.fcc.gov/spectrum-view/services}upperBand {}\n",
      "{http://data.fcc.gov/spectrum-view/services}bandDesc {}\n",
      "{http://data.fcc.gov/spectrum-view/services}SpectrumBand {'id': '39'}\n",
      "{http://data.fcc.gov/spectrum-view/services}lowerBand {}\n",
      "{http://data.fcc.gov/spectrum-view/services}upperBand {}\n",
      "{http://data.fcc.gov/spectrum-view/services}bandDesc {}\n",
      "{http://data.fcc.gov/spectrum-view/services}SpectrumBand {'id': '40'}\n",
      "{http://data.fcc.gov/spectrum-view/services}lowerBand {}\n",
      "{http://data.fcc.gov/spectrum-view/services}upperBand {}\n",
      "{http://data.fcc.gov/spectrum-view/services}bandDesc {}\n",
      "{http://data.fcc.gov/spectrum-view/services}SpectrumBand {'id': '41'}\n",
      "{http://data.fcc.gov/spectrum-view/services}lowerBand {}\n",
      "{http://data.fcc.gov/spectrum-view/services}upperBand {}\n",
      "{http://data.fcc.gov/spectrum-view/services}bandDesc {}\n"
     ]
    }
   ],
   "source": [
    "for child in root.iter('*'):\n",
    "    print(child.tag, child.attrib)"
   ]
  },
  {
   "cell_type": "code",
   "execution_count": 53,
   "metadata": {},
   "outputs": [],
   "source": [
    "loadRSS()"
   ]
  },
  {
   "cell_type": "code",
   "execution_count": 56,
   "metadata": {
    "scrolled": true
   },
   "outputs": [
    {
     "ename": "AttributeError",
     "evalue": "'NoneType' object has no attribute 'encode'",
     "output_type": "error",
     "traceback": [
      "\u001b[1;31m---------------------------------------------------------------------------\u001b[0m",
      "\u001b[1;31mAttributeError\u001b[0m                            Traceback (most recent call last)",
      "\u001b[1;32m<ipython-input-56-decca0a429bb>\u001b[0m in \u001b[0;36m<module>\u001b[1;34m()\u001b[0m\n\u001b[1;32m----> 1\u001b[1;33m \u001b[0mparseXML\u001b[0m\u001b[1;33m(\u001b[0m\u001b[1;34m\"FCC Spectrum.xml\"\u001b[0m\u001b[1;33m)\u001b[0m\u001b[1;33m\u001b[0m\u001b[0m\n\u001b[0m",
      "\u001b[1;32m<ipython-input-55-7f1a96b53c6f>\u001b[0m in \u001b[0;36mparseXML\u001b[1;34m(xmlfile)\u001b[0m\n\u001b[0;32m     40\u001b[0m                 \u001b[0mnews\u001b[0m\u001b[1;33m[\u001b[0m\u001b[1;34m'media'\u001b[0m\u001b[1;33m]\u001b[0m \u001b[1;33m=\u001b[0m \u001b[0mchild\u001b[0m\u001b[1;33m.\u001b[0m\u001b[0mattrib\u001b[0m\u001b[1;33m[\u001b[0m\u001b[1;34m'url'\u001b[0m\u001b[1;33m]\u001b[0m\u001b[1;33m\u001b[0m\u001b[0m\n\u001b[0;32m     41\u001b[0m             \u001b[1;32melse\u001b[0m\u001b[1;33m:\u001b[0m\u001b[1;33m\u001b[0m\u001b[0m\n\u001b[1;32m---> 42\u001b[1;33m                 \u001b[0mnews\u001b[0m\u001b[1;33m[\u001b[0m\u001b[0mchild\u001b[0m\u001b[1;33m.\u001b[0m\u001b[0mtag\u001b[0m\u001b[1;33m]\u001b[0m \u001b[1;33m=\u001b[0m \u001b[0mchild\u001b[0m\u001b[1;33m.\u001b[0m\u001b[0mtext\u001b[0m\u001b[1;33m.\u001b[0m\u001b[0mencode\u001b[0m\u001b[1;33m(\u001b[0m\u001b[1;34m'utf8'\u001b[0m\u001b[1;33m)\u001b[0m\u001b[1;33m\u001b[0m\u001b[0m\n\u001b[0m\u001b[0;32m     43\u001b[0m \u001b[1;33m\u001b[0m\u001b[0m\n\u001b[0;32m     44\u001b[0m         \u001b[1;31m# append news dictionary to news items list\u001b[0m\u001b[1;33m\u001b[0m\u001b[1;33m\u001b[0m\u001b[0m\n",
      "\u001b[1;31mAttributeError\u001b[0m: 'NoneType' object has no attribute 'encode'"
     ]
    }
   ],
   "source": [
    "parseXML(\"FCC Spectrum.xml\")"
   ]
  },
  {
   "cell_type": "code",
   "execution_count": null,
   "metadata": {},
   "outputs": [],
   "source": []
  }
 ],
 "metadata": {
  "kernelspec": {
   "display_name": "Python 3",
   "language": "python",
   "name": "python3"
  },
  "language_info": {
   "codemirror_mode": {
    "name": "ipython",
    "version": 3
   },
   "file_extension": ".py",
   "mimetype": "text/x-python",
   "name": "python",
   "nbconvert_exporter": "python",
   "pygments_lexer": "ipython3",
   "version": "3.6.3"
  }
 },
 "nbformat": 4,
 "nbformat_minor": 2
}
